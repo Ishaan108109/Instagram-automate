{
 "cells": [
  {
   "cell_type": "code",
   "execution_count": null,
   "id": "c1dda8b3",
   "metadata": {},
   "outputs": [],
   "source": [
    "import csv\n",
    "from instabot import Bot\n",
    "\n",
    "bot = Bot()\n",
    "\n",
    "bot.login(username='username',password='password')\n",
    "\n",
    "bot.follow('starwars') #for following an account\n",
    "\n",
    "bot.upload_photo(\"C:/Users/Ishaan/Pictures/Saved Pictures/i.jpg\") #to upload an image\n",
    "\n",
    "bot.unfollow('starwars') #to unfollow an account\n",
    "\n",
    "bot.send_message('why so serious',['starwars','marvel','dccomics'])  #to send a same message to a set of ppl\n",
    "\n",
    "# following block used to get the info of our followers and storing it in a csv\n",
    "f=open('followers.csv','a',newline='')\n",
    "writer= csv.writer(f)\n",
    "followers=bot.get_user_followers(\"_._._ishaan_._\")\n",
    "for followed in followers:\n",
    "     writer.writerow(bot.get_user_info(followed))\n",
    "\n",
    "\n",
    "\n",
    "# following block used to get the info of ppl we are following and storing it in a csv\n",
    "f2=open('following.csv','a',newline='')\n",
    "writer = csv.writer(f2)\n",
    "\n",
    "following= bot.get_user_following(\"_._._ishaan_._\")\n",
    "for f1 in following:\n",
    "    writer.writerow(bot.get_user_info(f1))\n",
    "\n"
   ]
  },
  {
   "cell_type": "code",
   "execution_count": null,
   "id": "5aa7c677",
   "metadata": {},
   "outputs": [],
   "source": [
    "import csv\n",
    "from instabot import Bot\n",
    "\n",
    "bot = Bot()\n",
    "\n",
    "bot.login(username='_._._ishaan_._',password='password')\n",
    "\n",
    "bot.follow('starwars') #for following an account\n",
    "\n",
    "bot.upload_photo(\"C:/Users/Ishaa/OneDrive/Pictures/Saved Pictures/i.jpg\") #to upload an image\n",
    "\n",
    "bot.unfollow('starwars') #to unfollow an account\n",
    "\n",
    "bot.send_message('why so serious',['starwars','marvel','dccomics'])  #to send a same message to a set of ppl\n",
    "\n",
    "# following block used to get the info of our followers and storing it in a csv\n",
    "\n",
    "followers=bot.get_user_followers(\"_._._ishaan_._\")\n",
    "for followed in followers:\n",
    "     print(bot.get_user_info(followed))\n",
    "\n",
    "\n",
    "\n",
    "#following block used to get the info of ppl we are following\n",
    "\n",
    "following= bot.get_user_following(\"_._._ishaan_._\")\n",
    "for f in following:\n",
    "    print(bot.get_user_info(f))\n",
    "\n"
   ]
  },
  {
   "cell_type": "code",
   "execution_count": null,
   "id": "92ed0459",
   "metadata": {},
   "outputs": [],
   "source": []
  }
 ],
 "metadata": {
  "kernelspec": {
   "display_name": "Python 3 (ipykernel)",
   "language": "python",
   "name": "python3"
  },
  "language_info": {
   "codemirror_mode": {
    "name": "ipython",
    "version": 3
   },
   "file_extension": ".py",
   "mimetype": "text/x-python",
   "name": "python",
   "nbconvert_exporter": "python",
   "pygments_lexer": "ipython3",
   "version": "3.9.7"
  }
 },
 "nbformat": 4,
 "nbformat_minor": 5
}
